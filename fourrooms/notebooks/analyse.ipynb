{
 "cells": [
  {
   "cell_type": "code",
   "execution_count": 1,
   "metadata": {},
   "outputs": [],
   "source": [
    "import csv\n",
    "import os\n",
    "import pandas as pd\n",
    "import numpy as np\n",
    "import sys\n",
    "import glob\n",
    "import logging"
   ]
  },
  {
   "cell_type": "code",
   "execution_count": 2,
   "metadata": {},
   "outputs": [],
   "source": [
    "def load_steps(path_pattern):\n",
    "    steps_list = []\n",
    "    for file_path in get_files(path_pattern):\n",
    "        steps = []\n",
    "        with open(file_path, \"r\", encoding='utf-8') as f:\n",
    "            reader = csv.reader(f)\n",
    "            for row in reader:\n",
    "                steps.append(int(row[0]))\n",
    "        steps_list.append(steps)\n",
    "    return steps_list\n",
    "\n",
    "def get_files(path_pattern):\n",
    "    return glob.glob(path_pattern)"
   ]
  },
  {
   "cell_type": "markdown",
   "metadata": {},
   "source": [
    "# Constant Value Potential Funcの読み込み"
   ]
  },
  {
   "cell_type": "code",
   "execution_count": 3,
   "metadata": {},
   "outputs": [],
   "source": [
    "dir_path = os.path.join(\"..\", \"in\", \"steps\") \n",
    "file_pattern = \"*test-eta*\"\n",
    "path_pattern = os.path.join(dir_path,file_pattern)"
   ]
  },
  {
   "cell_type": "code",
   "execution_count": 4,
   "metadata": {},
   "outputs": [
    {
     "data": {
      "text/plain": [
       "'../in/steps/*test-eta*'"
      ]
     },
     "execution_count": 4,
     "metadata": {},
     "output_type": "execute_result"
    }
   ],
   "source": [
    "path_pattern"
   ]
  },
  {
   "cell_type": "code",
   "execution_count": 5,
   "metadata": {},
   "outputs": [
    {
     "data": {
      "text/plain": [
       "'/home/tokudo/Develop/research/analyze_result/fourrooms/notebooks'"
      ]
     },
     "execution_count": 5,
     "metadata": {},
     "output_type": "execute_result"
    }
   ],
   "source": [
    "os.getcwd()"
   ]
  },
  {
   "cell_type": "code",
   "execution_count": 6,
   "metadata": {},
   "outputs": [],
   "source": [
    "file_list = get_files(path_pattern)\n",
    "steps_list = load_steps(path_pattern)"
   ]
  },
  {
   "cell_type": "code",
   "execution_count": 7,
   "metadata": {},
   "outputs": [
    {
     "data": {
      "text/plain": [
       "(100, 1000)"
      ]
     },
     "execution_count": 7,
     "metadata": {},
     "output_type": "execute_result"
    }
   ],
   "source": [
    "steps_list = np.array(steps_list)\n",
    "steps_list.shape"
   ]
  },
  {
   "cell_type": "code",
   "execution_count": 8,
   "metadata": {},
   "outputs": [
    {
     "data": {
      "text/plain": [
       "array([ 59228,  71390,  44752,  56845,  46220,  92520,  37016,  51931,\n",
       "        59347, 100403,  68246,  66462,  45481, 210037,  60781,  93101,\n",
       "        86753,  85797,  93239,  44748,  70535,  40422,  57346,  72526,\n",
       "        78488,  97650,  56977,  62153,  47730,  42467,  83033,  51873,\n",
       "        71862,  62666,  45278,  56945,  74058,  54465,  38978, 195350,\n",
       "       386791,  59697,  52628,  71584,  71403,  66634,  71400,  72326,\n",
       "        44896,  53288,  85645,  66241,  59216,  33894,  37141,  44110,\n",
       "        89143,  44947,  81366,  95534,  55779,  50173,  58738,  56779,\n",
       "        72347, 140683,  52487,  40576,  59108,  78142,  59317,  66130,\n",
       "       157498,  57881, 117663,  76950,  53829, 103586,  68661,  87519,\n",
       "       133520,  50821,  91594,  56471, 115232,  41077,  52593,  56029,\n",
       "        89279, 100571,  54921,  67940, 138936,  42499,  58971,  85411,\n",
       "        66532,  41260,  85141,  73568])"
      ]
     },
     "execution_count": 8,
     "metadata": {},
     "output_type": "execute_result"
    }
   ],
   "source": [
    "np.sum(steps_list, axis=1)"
   ]
  },
  {
   "cell_type": "code",
   "execution_count": 9,
   "metadata": {
    "scrolled": true
   },
   "outputs": [
    {
     "data": {
      "text/plain": [
       "'../in/steps/FlexibleFourrooms-v0-71-test-eta=1.0-rho=0.04.csv'"
      ]
     },
     "execution_count": 9,
     "metadata": {},
     "output_type": "execute_result"
    }
   ],
   "source": [
    "file_list[np.argmax(np.sum(steps_list, axis=1))]"
   ]
  },
  {
   "cell_type": "code",
   "execution_count": 10,
   "metadata": {
    "scrolled": true
   },
   "outputs": [
    {
     "data": {
      "text/plain": [
       "43558.83557382474"
      ]
     },
     "execution_count": 10,
     "metadata": {},
     "output_type": "execute_result"
    }
   ],
   "source": [
    "np.std(np.sum(steps_list, axis=1))"
   ]
  },
  {
   "cell_type": "markdown",
   "metadata": {},
   "source": [
    "# Actor-Criticの読み込み"
   ]
  },
  {
   "cell_type": "code",
   "execution_count": 11,
   "metadata": {},
   "outputs": [],
   "source": [
    "dir_path = os.path.join(\"..\", \"in\", \"steps\") \n",
    "file_pattern = \"*test-actor*\"\n",
    "path_pattern = os.path.join(dir_path,file_pattern)"
   ]
  },
  {
   "cell_type": "code",
   "execution_count": 12,
   "metadata": {},
   "outputs": [],
   "source": [
    "file_list = get_files(path_pattern)\n",
    "steps_list = load_steps(path_pattern)"
   ]
  },
  {
   "cell_type": "code",
   "execution_count": 13,
   "metadata": {},
   "outputs": [
    {
     "data": {
      "text/plain": [
       "array([ 66993,  88753,  96878,  67877,  61303,  62130,  68826,  66404,\n",
       "        98000,  59111,  57655,  82073,  89873,  69078,  86138,  62636,\n",
       "       100041,  65420,  51802,  80059,  53824,  51621,  70202,  61268,\n",
       "        74059,  90229,  54952,  58632,  67466,  61971,  73423,  59793,\n",
       "       103587,  62379,  55010,  48094,  62080,  53198,  60512,  98944,\n",
       "       114103,  61958,  72758,  64940,  71158,  66498,  63506, 120272,\n",
       "       164443,  68736,  71806,  85655,  73732,  47460,  68362,  59858,\n",
       "        42782,  69377,  73364,  52026,  83299,  82969,  51041,  65569,\n",
       "        74975,  59127,  63217,  59039,  47822,  74032,  53269, 110412,\n",
       "        50223,  55224,  70227,  53103, 151211,  53442,  89655,  65094,\n",
       "        59514,  81995,  84755,  80076,  77372,  93893,  48309,  65455,\n",
       "        63303,  58325,  85366,  75582,  61860,  57332,  46968,  47653,\n",
       "        65737,  88160, 103019,  68156])"
      ]
     },
     "execution_count": 13,
     "metadata": {},
     "output_type": "execute_result"
    }
   ],
   "source": [
    "np.sum(steps_list, axis=1)"
   ]
  },
  {
   "cell_type": "code",
   "execution_count": 14,
   "metadata": {},
   "outputs": [
    {
     "data": {
      "text/plain": [
       "'../in/steps/FlexibleFourrooms-v0-9-test-actor-critic-eta=1.0-rho=0.04.csv'"
      ]
     },
     "execution_count": 14,
     "metadata": {},
     "output_type": "execute_result"
    }
   ],
   "source": [
    "file_list[np.argmax(np.sum(steps_list, axis=1))]"
   ]
  },
  {
   "cell_type": "code",
   "execution_count": 15,
   "metadata": {},
   "outputs": [
    {
     "data": {
      "text/plain": [
       "7140868"
      ]
     },
     "execution_count": 15,
     "metadata": {},
     "output_type": "execute_result"
    }
   ],
   "source": [
    "np.sum(steps_list)"
   ]
  },
  {
   "cell_type": "code",
   "execution_count": 16,
   "metadata": {},
   "outputs": [
    {
     "data": {
      "text/plain": [
       "20268.046227438896"
      ]
     },
     "execution_count": 16,
     "metadata": {},
     "output_type": "execute_result"
    }
   ],
   "source": [
    "np.std(np.sum(steps_list, axis=1))"
   ]
  }
 ],
 "metadata": {
  "file_extension": ".py",
  "kernelspec": {
   "display_name": "Python 3",
   "language": "python",
   "name": "python3"
  },
  "language_info": {
   "codemirror_mode": {
    "name": "ipython",
    "version": 3
   },
   "file_extension": ".py",
   "mimetype": "text/x-python",
   "name": "python",
   "nbconvert_exporter": "python",
   "pygments_lexer": "ipython3",
   "version": "3.7.3"
  },
  "mimetype": "text/x-python",
  "name": "python",
  "npconvert_exporter": "python",
  "pygments_lexer": "ipython3",
  "version": 3
 },
 "nbformat": 4,
 "nbformat_minor": 2
}
