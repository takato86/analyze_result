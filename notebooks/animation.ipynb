{
 "cells": [
  {
   "cell_type": "code",
   "execution_count": null,
   "metadata": {},
   "outputs": [],
   "source": [
    "%matplotlib nbagg"
   ]
  },
  {
   "cell_type": "code",
   "execution_count": null,
   "metadata": {},
   "outputs": [],
   "source": [
    "import matplotlib.pyplot as plt\n",
    "import matplotlib.animation as animation\n",
    "import pandas as pd\n",
    "import numpy as np"
   ]
  },
  {
   "cell_type": "code",
   "execution_count": null,
   "metadata": {},
   "outputs": [],
   "source": [
    "value_df = pd.read_csv(\"in/animation/ConstFourrooms-v0-0-0.csv\", index_col=0)\n",
    "value_df"
   ]
  },
  {
   "cell_type": "code",
   "execution_count": null,
   "metadata": {},
   "outputs": [],
   "source": [
    "group_value_df = value_df.groupby([\"episode\", \"z\"]).agg({\"v_z\":max})\n",
    "group_value_df"
   ]
  },
  {
   "cell_type": "code",
   "execution_count": null,
   "metadata": {},
   "outputs": [],
   "source": [
    "group_value_df.xs(500, level=\"episode\")"
   ]
  },
  {
   "cell_type": "code",
   "execution_count": null,
   "metadata": {},
   "outputs": [],
   "source": [
    "# 学習後の軌跡に含まれる状態系列\n",
    "last_episode = value_df[\"episode\"].max()\n",
    "states_last_episode = value_df[value_df[\"episode\"] == last_episode][\"state\"].values.tolist()[:-1]\n",
    "states_last_episode"
   ]
  },
  {
   "cell_type": "code",
   "execution_count": null,
   "metadata": {},
   "outputs": [],
   "source": [
    "z_value_df = group_value_df.reset_index()\n",
    "z_value_df = z_value_df.pivot(index=\"episode\", columns=\"z\", values=\"v_z\")\n",
    "z_value_df = z_value_df.fillna(method=\"ffill\")\n",
    "z_value_df"
   ]
  },
  {
   "cell_type": "code",
   "execution_count": null,
   "metadata": {},
   "outputs": [],
   "source": [
    "fig, ax = plt.subplots()\n",
    "x = np.arange(30)\n",
    "v_0, v_1, v_2 = z_value_df.values.tolist()[100]\n",
    "print(v_0, v_1, v_2)\n",
    "series1 = np.full(10, v_0)\n",
    "series2 = np.full(10, v_1)\n",
    "series3 = np.full(10, v_2)\n",
    "y = np.hstack([series1, series2, series3])\n",
    "ax.spines[\"top\"].set_visible(False)\n",
    "ax.spines[\"bottom\"].set_visible(False)\n",
    "ax.spines[\"right\"].set_visible(False)\n",
    "ax.spines[\"left\"].set_visible(False)\n",
    "ax.tick_params(bottom=False, left=False, labelbottom=False, labelleft=False)\n",
    "ax.bar(x, y, color='black')"
   ]
  },
  {
   "cell_type": "code",
   "execution_count": null,
   "metadata": {},
   "outputs": [],
   "source": [
    "width = 20\n",
    "fig, ax = plt.subplots(figsize=(width, width / 1.776))\n",
    "ax.spines[\"top\"].set_visible(False)\n",
    "ax.spines[\"bottom\"].set_visible(False)\n",
    "ax.spines[\"right\"].set_visible(False)\n",
    "ax.spines[\"left\"].set_visible(False)\n",
    "ax.tick_params(bottom=False, left=False, labelbottom=False, labelleft=False)\n",
    "graphs = []\n",
    "x = np.arange(30)\n",
    "\n",
    "for v_0, v_1, v_2 in z_value_df.values.tolist()[:60]:\n",
    "    series1 = np.full(10, v_0)\n",
    "    series2 = np.full(10, v_1)\n",
    "    series3 = np.full(10, v_2)\n",
    "    y = np.hstack([series1, series2, series3])\n",
    "    im = plt.bar(x, y, color='black')\n",
    "    graphs.append(im)\n",
    "\n",
    "ani = animation.ArtistAnimation(fig, graphs, interval=10)\n",
    "ani.save(\"dynamic_potential.gif\", writer=\"imagemagick\")\n",
    "# plt.show()"
   ]
  },
  {
   "cell_type": "code",
   "execution_count": null,
   "metadata": {},
   "outputs": [],
   "source": []
  }
 ],
 "metadata": {
  "kernelspec": {
   "display_name": ".venv",
   "language": "python",
   "name": "python3"
  },
  "language_info": {
   "codemirror_mode": {
    "name": "ipython",
    "version": 3
   },
   "file_extension": ".py",
   "mimetype": "text/x-python",
   "name": "python",
   "nbconvert_exporter": "python",
   "pygments_lexer": "ipython3",
   "version": "3.11.0 (main, Oct 24 2022, 18:26:48) [MSC v.1933 64 bit (AMD64)]"
  },
  "vscode": {
   "interpreter": {
    "hash": "82e62995fd7e009cbf3a1de9173d536e0dbece85a2a765bf90e97e200a80e670"
   }
  }
 },
 "nbformat": 4,
 "nbformat_minor": 2
}
